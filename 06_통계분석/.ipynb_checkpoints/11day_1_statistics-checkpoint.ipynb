{
 "cells": [
  {
   "cell_type": "markdown",
   "id": "5591f108",
   "metadata": {},
   "source": [
    "# 통계 분석"
   ]
  },
  {
   "cell_type": "markdown",
   "id": "b9925f15",
   "metadata": {},
   "source": [
    "## 1. 통계"
   ]
  },
  {
   "cell_type": "markdown",
   "id": "0d70bf26",
   "metadata": {},
   "source": [
    "### 1.1 통계의 정의"
   ]
  },
  {
   "cell_type": "markdown",
   "id": "92c0ead5",
   "metadata": {},
   "source": [
    "#### - 추론 통계: 모집단에서 샘플링한 표본으로 모집단의 특성을 추론하고 그 결과가 신뢰성이 있는지 점검하는 과정"
   ]
  },
  {
   "cell_type": "markdown",
   "id": "22d7dedf",
   "metadata": {},
   "source": [
    "#### - 가설: 모수에 대한 예상, 주장, 또는 단순한 추측\n",
    "#### - 통계적 가설: 가설에 대해 증거를 수집하고 과학적으로 증명하는 과정"
   ]
  },
  {
   "cell_type": "markdown",
   "id": "ee38e1df",
   "metadata": {},
   "source": [
    "### 1.2 가설의 정의"
   ]
  },
  {
   "cell_type": "markdown",
   "id": "05a897c5",
   "metadata": {},
   "source": [
    "#### - 귀무가설: 기각하기를 희망하여 형식화한 가설 (정확한 값을 지정하도록 진술), H0\n",
    "#### - 대립가설: 표본을 통해 채택하고자 하는 새로운 가설, H1"
   ]
  },
  {
   "cell_type": "markdown",
   "id": "d22e2a68",
   "metadata": {},
   "source": [
    "#### - 대립가설을 채택했으나 귀무가설이 진실인 경우 = 1종 오류\n",
    "#### - 대립가설을 기각했으나 귀무가설이 거짓인 경우 = 2종 오류"
   ]
  },
  {
   "cell_type": "markdown",
   "id": "5d61d9de",
   "metadata": {},
   "source": [
    "#### - P(유의수준) < a = 0.05: 오류 5% 이하, 95% 이상 진실, 귀무가설 기각\n",
    "#### - P(유의수준) >= a = 0.05: 오류 5% 이상, 95% 이하 진실, 귀무가설 채택"
   ]
  },
  {
   "cell_type": "markdown",
   "id": "87f5196b",
   "metadata": {},
   "source": [
    "### 1.3 통계 절차"
   ]
  },
  {
   "cell_type": "markdown",
   "id": "fd4446c4",
   "metadata": {},
   "source": [
    "#### 1. 통계 분석 방법 산정\n",
    "#### 2. 분석하고자 하는 목적에 따른 귀무가설과 대립가설 설정\n",
    "#### 3. 분석도구 검정통계량 실행 및 확인\n",
    "#### 4. 유의수준(a) 결정: 0.1, 0.05, 0.01\n",
    "#### 5. 유의확률(P) 확인\n",
    "#### 6. 유의확률과 유의수준 비교\n",
    "#### 7. 귀무가설과 대립가설 선택\n",
    "#### 8. 분석 결론"
   ]
  },
  {
   "cell_type": "markdown",
   "id": "55712009",
   "metadata": {},
   "source": [
    "### 1.4 T 검정"
   ]
  },
  {
   "cell_type": "markdown",
   "id": "e29eec23",
   "metadata": {},
   "source": [
    "#### 두 집단의 평균을 비교하는 통계적 검정방법\n",
    "#### 단순히 차이의 존재 여부가 아니라 두 집단의 비교가 통계적으로 의미가 있는가를 검정"
   ]
  },
  {
   "cell_type": "markdown",
   "id": "1140f446",
   "metadata": {},
   "source": [
    "#### - 귀무가설: 집단간의 평균 차이는 없다\n",
    "#### - 대립가설: 집단간의 평균 차이는 있다"
   ]
  },
  {
   "cell_type": "markdown",
   "id": "542cc5dc",
   "metadata": {},
   "source": [
    "#### - 단일표본 T: 하나의 집단 중 관심있는 연속형 변수의 모평균이 어떤 특정 값과 같은지 알아보고자 할때\n",
    "#### - 독립표본 T, 대응표본 T"
   ]
  },
  {
   "cell_type": "markdown",
   "id": "e4f8af0d",
   "metadata": {},
   "source": [
    "### 1.5 카이 제곱 검정"
   ]
  },
  {
   "cell_type": "markdown",
   "id": "dcd510a6",
   "metadata": {},
   "source": [
    "#### 관찰된 빈도가 기대 빈도와 의미있게 다른지의 여부를 검증"
   ]
  },
  {
   "cell_type": "markdown",
   "id": "8f8bd848",
   "metadata": {},
   "source": [
    "## 2. 실습"
   ]
  },
  {
   "cell_type": "markdown",
   "id": "a6da5496",
   "metadata": {},
   "source": [
    "### 2.1 T 검정"
   ]
  },
  {
   "cell_type": "code",
   "execution_count": 2,
   "id": "9944fc9a",
   "metadata": {},
   "outputs": [],
   "source": [
    "from scipy import stats\n",
    "import pandas as pd\n",
    "import numpy"
   ]
  },
  {
   "cell_type": "code",
   "execution_count": 10,
   "id": "d278248a",
   "metadata": {},
   "outputs": [
    {
     "data": {
      "text/plain": [
       "167.6"
      ]
     },
     "execution_count": 10,
     "metadata": {},
     "output_type": "execute_result"
    }
   ],
   "source": [
    "group1Heights = numpy.array([162, 168, 169, 165, 166, 168, \n",
    "                             162, 172, 157, 173, 158, 169, \n",
    "                             164, 170, 163, 175, 177, 162, 175, 177])\n",
    "\n",
    "group1Heights.mean()"
   ]
  },
  {
   "cell_type": "markdown",
   "id": "95ef2050",
   "metadata": {},
   "source": [
    "#### - T 검정하기"
   ]
  },
  {
   "cell_type": "markdown",
   "id": "51c6a61f",
   "metadata": {},
   "source": [
    "#### statistic = 검정 통계랑 (정확도)\n",
    "#### p-value = 유의수준\n",
    "#### - 정확도 + 유의수준 = 1"
   ]
  },
  {
   "cell_type": "markdown",
   "id": "4cca0a7a",
   "metadata": {},
   "source": [
    "#### - 귀무가설: height_list의 평균은 170이다\n",
    "#### - 대립가설: height_list의 평균은 170이 아니다"
   ]
  },
  {
   "cell_type": "code",
   "execution_count": 11,
   "id": "b48add81",
   "metadata": {},
   "outputs": [
    {
     "data": {
      "text/plain": [
       "Ttest_1sampResult(statistic=-1.785204187065618, pvalue=0.09020241532870862)"
      ]
     },
     "execution_count": 11,
     "metadata": {},
     "output_type": "execute_result"
    }
   ],
   "source": [
    "tTestResult = stats.ttest_1samp(group1Heights, 170)\n",
    "\n",
    "tTestResult"
   ]
  },
  {
   "cell_type": "code",
   "execution_count": 16,
   "id": "eec71291",
   "metadata": {},
   "outputs": [
    {
     "name": "stdout",
     "output_type": "stream",
     "text": [
      "t검정통계량 = 2.945, p-value = 0.008\n"
     ]
    }
   ],
   "source": [
    "print('t검정통계량 = %.3f, p-value = %.3f' % (tTestResult))"
   ]
  },
  {
   "cell_type": "markdown",
   "id": "cc33aa08",
   "metadata": {},
   "source": [
    "#### - 유의미하지 않다"
   ]
  },
  {
   "cell_type": "code",
   "execution_count": 17,
   "id": "569b3c1a",
   "metadata": {},
   "outputs": [
    {
     "data": {
      "text/plain": [
       "Ttest_indResult(statistic=-1.8253194633881713, pvalue=0.07582039848129221)"
      ]
     },
     "execution_count": 17,
     "metadata": {},
     "output_type": "execute_result"
    }
   ],
   "source": [
    "group1Heights = numpy.array([162, 168, 169, 165, 166, 168, \n",
    "                             162, 172, 157, 173, 158, 169, \n",
    "                             164, 170, 163, 175, 177, 162, 175, 177])\n",
    "\n",
    "group2Heights = numpy.array([180, 181, 163, 164, 174, 169,\n",
    "                           164, 172, 162, 171, 180, 168,\n",
    "                           164, 169, 178, 177, 167, 179, \n",
    "                           172, 169])\n",
    "\n",
    "tTestResult = stats.ttest_ind(group1Heights, group2Heights)\n",
    "\n",
    "tTestResult"
   ]
  },
  {
   "cell_type": "markdown",
   "id": "7d808dcf",
   "metadata": {},
   "source": [
    "#### - 유의미하지 않다"
   ]
  },
  {
   "cell_type": "code",
   "execution_count": 15,
   "id": "14779324",
   "metadata": {},
   "outputs": [
    {
     "data": {
      "text/plain": [
       "Ttest_relResult(statistic=2.9445572893101475, pvalue=0.00832117538495904)"
      ]
     },
     "execution_count": 15,
     "metadata": {},
     "output_type": "execute_result"
    }
   ],
   "source": [
    "beforeWeights = numpy.array([80, 82, 76, 82, 65, 73, 77,\n",
    "                            78, 61, 61, 60, 70, 60, 63,\n",
    "                            89, 84, 85, 81, 67, 60])\n",
    "\n",
    "temp_list = []\n",
    "for i in beforeWeights:\n",
    "    # random 가중치 부여\n",
    "    temp_list.append(i * numpy.random.normal(0.99, 0.02))\n",
    "    \n",
    "afterWeights = numpy.array(temp_list)\n",
    "\n",
    "tTestResult = stats.ttest_rel(beforeWeights, afterWeights)\n",
    "\n",
    "tTestResult"
   ]
  },
  {
   "cell_type": "markdown",
   "id": "dda5a749",
   "metadata": {},
   "source": [
    "#### - 유의미한 데이터라 할 수  있다 (값이 유사하다)"
   ]
  }
 ],
 "metadata": {
  "kernelspec": {
   "display_name": "Python 3 (ipykernel)",
   "language": "python",
   "name": "python3"
  },
  "language_info": {
   "codemirror_mode": {
    "name": "ipython",
    "version": 3
   },
   "file_extension": ".py",
   "mimetype": "text/x-python",
   "name": "python",
   "nbconvert_exporter": "python",
   "pygments_lexer": "ipython3",
   "version": "3.9.7"
  }
 },
 "nbformat": 4,
 "nbformat_minor": 5
}
