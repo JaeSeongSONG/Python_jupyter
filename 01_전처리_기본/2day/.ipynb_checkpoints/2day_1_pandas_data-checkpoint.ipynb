{
 "cells": [
  {
   "cell_type": "markdown",
   "id": "10c1a248",
   "metadata": {},
   "source": [
    "# PANDAS"
   ]
  },
  {
   "cell_type": "markdown",
   "id": "13b212cc",
   "metadata": {},
   "source": [
    "## 1. PANDAS DATA"
   ]
  },
  {
   "cell_type": "markdown",
   "id": "6cfc79a6",
   "metadata": {},
   "source": [
    "### 1.1 SERIES"
   ]
  },
  {
   "cell_type": "markdown",
   "id": "30332b79",
   "metadata": {},
   "source": [
    "#### - 1차원 자료구조인 시리즈, 2차원 자료구조인 데이터프레임을 지원\n",
    "#### - 각 열에 있는 데이터를 시리즈, 그 열들을 모은 것을 데이터 프레임이라고 함\n",
    "#### - 모든 데이터 유형을 저장 할 수 있는 1차원 레이블이 지정된 배열\n",
    "\n",
    "#### - 열 레이블을 총칭하여 인덱스라고 함\n",
    "\n",
    "#### - 시리즈는 인덱스와 짝지어진 데이터로 되어 있음"
   ]
  },
  {
   "cell_type": "code",
   "execution_count": 46,
   "id": "29893572",
   "metadata": {},
   "outputs": [],
   "source": [
    "import pandas as pd"
   ]
  },
  {
   "cell_type": "code",
   "execution_count": 47,
   "id": "554b8e4c",
   "metadata": {},
   "outputs": [],
   "source": [
    "series_data1 = pd.Series(['Dog', 'Cat', 'Tiger', 'Lion', 'Monkey'], \\\n",
    "                        index = [0, 2, 1, 3, 4])"
   ]
  },
  {
   "cell_type": "code",
   "execution_count": 48,
   "id": "cc614b19",
   "metadata": {},
   "outputs": [
    {
     "data": {
      "text/plain": [
       "0       Dog\n",
       "2       Cat\n",
       "1     Tiger\n",
       "3      Lion\n",
       "4    Monkey\n",
       "dtype: object"
      ]
     },
     "execution_count": 48,
     "metadata": {},
     "output_type": "execute_result"
    }
   ],
   "source": [
    "series_data1"
   ]
  },
  {
   "cell_type": "markdown",
   "id": "748993b7",
   "metadata": {},
   "source": [
    "### 1.2 DICTIONARY TO SERIES"
   ]
  },
  {
   "cell_type": "code",
   "execution_count": 94,
   "id": "3ffcb066",
   "metadata": {},
   "outputs": [],
   "source": [
    "dict_data = {'a' : 1, 'b' : 2, 'c' : 3}"
   ]
  },
  {
   "cell_type": "code",
   "execution_count": 95,
   "id": "9f9e6010",
   "metadata": {},
   "outputs": [
    {
     "data": {
      "text/plain": [
       "{'a': 1, 'b': 2, 'c': 3}"
      ]
     },
     "execution_count": 95,
     "metadata": {},
     "output_type": "execute_result"
    }
   ],
   "source": [
    "dict_data"
   ]
  },
  {
   "cell_type": "code",
   "execution_count": 51,
   "id": "1443924f",
   "metadata": {},
   "outputs": [],
   "source": [
    "series_data2 = pd.Series(dict_data)"
   ]
  },
  {
   "cell_type": "markdown",
   "id": "370603b8",
   "metadata": {},
   "source": [
    "key는 인덱스로 value는 데이터로"
   ]
  },
  {
   "cell_type": "code",
   "execution_count": 88,
   "id": "eb8e265e",
   "metadata": {},
   "outputs": [
    {
     "data": {
      "text/plain": [
       "a    1\n",
       "b    2\n",
       "c    3\n",
       "dtype: int64"
      ]
     },
     "execution_count": 88,
     "metadata": {},
     "output_type": "execute_result"
    }
   ],
   "source": [
    "series_data2"
   ]
  },
  {
   "cell_type": "code",
   "execution_count": 53,
   "id": "7573940f",
   "metadata": {},
   "outputs": [
    {
     "data": {
      "text/plain": [
       "pandas.core.series.Series"
      ]
     },
     "execution_count": 53,
     "metadata": {},
     "output_type": "execute_result"
    }
   ],
   "source": [
    "type(series_data2)"
   ]
  },
  {
   "cell_type": "markdown",
   "id": "9a15c350",
   "metadata": {},
   "source": [
    "### 1.3 LIST TO SERIES"
   ]
  },
  {
   "cell_type": "code",
   "execution_count": 54,
   "id": "5d6b7560",
   "metadata": {},
   "outputs": [
    {
     "data": {
      "text/plain": [
       "0      Dog\n",
       "1      Cat\n",
       "2    Tiger\n",
       "dtype: object"
      ]
     },
     "execution_count": 54,
     "metadata": {},
     "output_type": "execute_result"
    }
   ],
   "source": [
    "list_data = ['Dog', 'Cat', 'Tiger']\n",
    "\n",
    "series_data3 = pd.Series(list_data)\n",
    "series_data3"
   ]
  },
  {
   "cell_type": "code",
   "execution_count": 55,
   "id": "d9ec5c96",
   "metadata": {},
   "outputs": [
    {
     "data": {
      "text/plain": [
       "pandas.core.series.Series"
      ]
     },
     "execution_count": 55,
     "metadata": {},
     "output_type": "execute_result"
    }
   ],
   "source": [
    "type(series_data3)"
   ]
  },
  {
   "cell_type": "markdown",
   "id": "4c23290b",
   "metadata": {},
   "source": [
    "### 1.4 TUPLE TO SERIES"
   ]
  },
  {
   "cell_type": "code",
   "execution_count": 56,
   "id": "14eb87f6",
   "metadata": {},
   "outputs": [
    {
     "data": {
      "text/plain": [
       "('이순신', '1991-03-15', '남자')"
      ]
     },
     "execution_count": 56,
     "metadata": {},
     "output_type": "execute_result"
    }
   ],
   "source": [
    "tuple_data = ('이순신', '1991-03-15', '남자')\n",
    "\n",
    "tuple_data"
   ]
  },
  {
   "cell_type": "code",
   "execution_count": 62,
   "id": "0cec33ad",
   "metadata": {},
   "outputs": [
    {
     "data": {
      "text/plain": [
       "이름             이순신\n",
       "생년월일    1991-03-15\n",
       "성별              남자\n",
       "dtype: object"
      ]
     },
     "execution_count": 62,
     "metadata": {},
     "output_type": "execute_result"
    }
   ],
   "source": [
    "col_name = ['이름', '생년월일', '성별']\n",
    "\n",
    "series_data4 = pd.Series(tuple_data, \\\n",
    "                        index = col_name)\n",
    "series_data4"
   ]
  },
  {
   "cell_type": "code",
   "execution_count": 63,
   "id": "93e610a6",
   "metadata": {},
   "outputs": [
    {
     "data": {
      "text/plain": [
       "pandas.core.series.Series"
      ]
     },
     "execution_count": 63,
     "metadata": {},
     "output_type": "execute_result"
    }
   ],
   "source": [
    "type(series_data4)"
   ]
  },
  {
   "cell_type": "markdown",
   "id": "2dd19676",
   "metadata": {},
   "source": [
    "======================================================================================================\n",
    "\n",
    "### 2.1 DATA FRAME"
   ]
  },
  {
   "cell_type": "markdown",
   "id": "11af88e4",
   "metadata": {},
   "source": [
    "#### - 행과 열의 자료구조\n",
    "\n",
    "#### - 서로 다른 종류의 값(숫자, 문자열, 불리언 등) 을 가질 수 있음\n",
    "\n",
    "#### - 시리즈가 여러 개 합쳐진 것으로 볼 수 있음"
   ]
  },
  {
   "cell_type": "markdown",
   "id": "21209483",
   "metadata": {},
   "source": [
    "### 2.2 DICTIONARY TO DATA FRAME"
   ]
  },
  {
   "cell_type": "code",
   "execution_count": 89,
   "id": "f7a6e72b",
   "metadata": {},
   "outputs": [
    {
     "name": "stdout",
     "output_type": "stream",
     "text": [
      "{'동물': ['Dog', 'Cat', 'Tiger', 'Lion', 'Monkey'], '나이': [7, 9, 2, 3, 1]}\n"
     ]
    },
    {
     "data": {
      "text/plain": [
       "dict"
      ]
     },
     "execution_count": 89,
     "metadata": {},
     "output_type": "execute_result"
    }
   ],
   "source": [
    "animal_age_data = {'동물' : ['Dog', 'Cat', 'Tiger', 'Lion', 'Monkey'],\n",
    "                   '나이' : [7, 9, 2, 3, 1]}\n",
    "print(animal_age_data)\n",
    "type(animal_age_data)"
   ]
  },
  {
   "cell_type": "code",
   "execution_count": 73,
   "id": "ef2a92ff",
   "metadata": {},
   "outputs": [
    {
     "data": {
      "text/html": [
       "<div>\n",
       "<style scoped>\n",
       "    .dataframe tbody tr th:only-of-type {\n",
       "        vertical-align: middle;\n",
       "    }\n",
       "\n",
       "    .dataframe tbody tr th {\n",
       "        vertical-align: top;\n",
       "    }\n",
       "\n",
       "    .dataframe thead th {\n",
       "        text-align: right;\n",
       "    }\n",
       "</style>\n",
       "<table border=\"1\" class=\"dataframe\">\n",
       "  <thead>\n",
       "    <tr style=\"text-align: right;\">\n",
       "      <th></th>\n",
       "      <th>동물</th>\n",
       "      <th>나이</th>\n",
       "    </tr>\n",
       "  </thead>\n",
       "  <tbody>\n",
       "    <tr>\n",
       "      <th>0</th>\n",
       "      <td>Dog</td>\n",
       "      <td>7</td>\n",
       "    </tr>\n",
       "    <tr>\n",
       "      <th>1</th>\n",
       "      <td>Cat</td>\n",
       "      <td>9</td>\n",
       "    </tr>\n",
       "    <tr>\n",
       "      <th>2</th>\n",
       "      <td>Tiger</td>\n",
       "      <td>2</td>\n",
       "    </tr>\n",
       "    <tr>\n",
       "      <th>3</th>\n",
       "      <td>Lion</td>\n",
       "      <td>3</td>\n",
       "    </tr>\n",
       "    <tr>\n",
       "      <th>4</th>\n",
       "      <td>Monkey</td>\n",
       "      <td>1</td>\n",
       "    </tr>\n",
       "  </tbody>\n",
       "</table>\n",
       "</div>"
      ],
      "text/plain": [
       "       동물  나이\n",
       "0     Dog   7\n",
       "1     Cat   9\n",
       "2   Tiger   2\n",
       "3    Lion   3\n",
       "4  Monkey   1"
      ]
     },
     "execution_count": 73,
     "metadata": {},
     "output_type": "execute_result"
    }
   ],
   "source": [
    "df_animal_age = pd.DataFrame(animal_age_data)\n",
    "df_animal_age"
   ]
  },
  {
   "cell_type": "markdown",
   "id": "986ce0b5",
   "metadata": {},
   "source": [
    "### 2.3 LIST TO DATA FRAME"
   ]
  },
  {
   "cell_type": "code",
   "execution_count": 75,
   "id": "e405dd69",
   "metadata": {},
   "outputs": [
    {
     "data": {
      "text/plain": [
       "[['Dog', 7], ['Cat', 9], ['Tiger', 2], ['Lion', 3], ['Monkey', 1]]"
      ]
     },
     "execution_count": 75,
     "metadata": {},
     "output_type": "execute_result"
    }
   ],
   "source": [
    "list_data = [['Dog', 7], ['Cat', 9],['Tiger', 2], ['Lion', 3], ['Monkey', 1]] # 5행 2열\n",
    "list_data"
   ]
  },
  {
   "cell_type": "code",
   "execution_count": 79,
   "id": "b058f022",
   "metadata": {},
   "outputs": [
    {
     "data": {
      "text/html": [
       "<div>\n",
       "<style scoped>\n",
       "    .dataframe tbody tr th:only-of-type {\n",
       "        vertical-align: middle;\n",
       "    }\n",
       "\n",
       "    .dataframe tbody tr th {\n",
       "        vertical-align: top;\n",
       "    }\n",
       "\n",
       "    .dataframe thead th {\n",
       "        text-align: right;\n",
       "    }\n",
       "</style>\n",
       "<table border=\"1\" class=\"dataframe\">\n",
       "  <thead>\n",
       "    <tr style=\"text-align: right;\">\n",
       "      <th></th>\n",
       "      <th>animal</th>\n",
       "      <th>age</th>\n",
       "    </tr>\n",
       "  </thead>\n",
       "  <tbody>\n",
       "    <tr>\n",
       "      <th>0</th>\n",
       "      <td>Dog</td>\n",
       "      <td>7</td>\n",
       "    </tr>\n",
       "    <tr>\n",
       "      <th>1</th>\n",
       "      <td>Cat</td>\n",
       "      <td>9</td>\n",
       "    </tr>\n",
       "    <tr>\n",
       "      <th>2</th>\n",
       "      <td>Tiger</td>\n",
       "      <td>2</td>\n",
       "    </tr>\n",
       "    <tr>\n",
       "      <th>3</th>\n",
       "      <td>Lion</td>\n",
       "      <td>3</td>\n",
       "    </tr>\n",
       "    <tr>\n",
       "      <th>4</th>\n",
       "      <td>Monkey</td>\n",
       "      <td>1</td>\n",
       "    </tr>\n",
       "  </tbody>\n",
       "</table>\n",
       "</div>"
      ],
      "text/plain": [
       "   animal  age\n",
       "0     Dog    7\n",
       "1     Cat    9\n",
       "2   Tiger    2\n",
       "3    Lion    3\n",
       "4  Monkey    1"
      ]
     },
     "execution_count": 79,
     "metadata": {},
     "output_type": "execute_result"
    }
   ],
   "source": [
    "df2 = pd.DataFrame(list_data,\n",
    "                  columns = ['animal', 'age'])\n",
    "df2"
   ]
  },
  {
   "cell_type": "code",
   "execution_count": 80,
   "id": "1f6926dd",
   "metadata": {},
   "outputs": [
    {
     "data": {
      "text/plain": [
       "pandas.core.frame.DataFrame"
      ]
     },
     "execution_count": 80,
     "metadata": {},
     "output_type": "execute_result"
    }
   ],
   "source": [
    "type(df2)"
   ]
  },
  {
   "cell_type": "code",
   "execution_count": 82,
   "id": "a4a26420",
   "metadata": {},
   "outputs": [
    {
     "data": {
      "text/plain": [
       "animal    object\n",
       "age        int64\n",
       "dtype: object"
      ]
     },
     "execution_count": 82,
     "metadata": {},
     "output_type": "execute_result"
    }
   ],
   "source": [
    "df2.dtypes"
   ]
  },
  {
   "cell_type": "markdown",
   "id": "4a1da8a0",
   "metadata": {},
   "source": [
    "### 2.4 빈 DATA FRAME 만들기"
   ]
  },
  {
   "cell_type": "code",
   "execution_count": 86,
   "id": "d2cb83a8",
   "metadata": {},
   "outputs": [
    {
     "data": {
      "text/html": [
       "<div>\n",
       "<style scoped>\n",
       "    .dataframe tbody tr th:only-of-type {\n",
       "        vertical-align: middle;\n",
       "    }\n",
       "\n",
       "    .dataframe tbody tr th {\n",
       "        vertical-align: top;\n",
       "    }\n",
       "\n",
       "    .dataframe thead th {\n",
       "        text-align: right;\n",
       "    }\n",
       "</style>\n",
       "<table border=\"1\" class=\"dataframe\">\n",
       "  <thead>\n",
       "    <tr style=\"text-align: right;\">\n",
       "      <th></th>\n",
       "    </tr>\n",
       "  </thead>\n",
       "  <tbody>\n",
       "  </tbody>\n",
       "</table>\n",
       "</div>"
      ],
      "text/plain": [
       "Empty DataFrame\n",
       "Columns: []\n",
       "Index: []"
      ]
     },
     "execution_count": 86,
     "metadata": {},
     "output_type": "execute_result"
    }
   ],
   "source": [
    "df_null = pd.DataFrame()\n",
    "df_null"
   ]
  },
  {
   "cell_type": "markdown",
   "id": "7116b0b7",
   "metadata": {},
   "source": [
    "컬럼 만들기"
   ]
  },
  {
   "cell_type": "code",
   "execution_count": 87,
   "id": "87054210",
   "metadata": {},
   "outputs": [
    {
     "data": {
      "text/html": [
       "<div>\n",
       "<style scoped>\n",
       "    .dataframe tbody tr th:only-of-type {\n",
       "        vertical-align: middle;\n",
       "    }\n",
       "\n",
       "    .dataframe tbody tr th {\n",
       "        vertical-align: top;\n",
       "    }\n",
       "\n",
       "    .dataframe thead th {\n",
       "        text-align: right;\n",
       "    }\n",
       "</style>\n",
       "<table border=\"1\" class=\"dataframe\">\n",
       "  <thead>\n",
       "    <tr style=\"text-align: right;\">\n",
       "      <th></th>\n",
       "      <th>동물</th>\n",
       "    </tr>\n",
       "  </thead>\n",
       "  <tbody>\n",
       "  </tbody>\n",
       "</table>\n",
       "</div>"
      ],
      "text/plain": [
       "Empty DataFrame\n",
       "Columns: [동물]\n",
       "Index: []"
      ]
     },
     "execution_count": 87,
     "metadata": {},
     "output_type": "execute_result"
    }
   ],
   "source": [
    "df_null['동물'] = 'Dog'\n",
    "df_null"
   ]
  }
 ],
 "metadata": {
  "kernelspec": {
   "display_name": "Python 3 (ipykernel)",
   "language": "python",
   "name": "python3"
  },
  "language_info": {
   "codemirror_mode": {
    "name": "ipython",
    "version": 3
   },
   "file_extension": ".py",
   "mimetype": "text/x-python",
   "name": "python",
   "nbconvert_exporter": "python",
   "pygments_lexer": "ipython3",
   "version": "3.9.7"
  }
 },
 "nbformat": 4,
 "nbformat_minor": 5
}
