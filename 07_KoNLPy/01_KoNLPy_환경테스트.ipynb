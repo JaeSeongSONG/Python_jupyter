{
 "cells": [
  {
   "cell_type": "markdown",
   "id": "84dc9f83",
   "metadata": {},
   "source": [
    "#### - 라이브러리 가지고 오기"
   ]
  },
  {
   "cell_type": "code",
   "execution_count": 2,
   "id": "8a4dcbcd",
   "metadata": {},
   "outputs": [],
   "source": [
    "from konlpy.tag import Okt"
   ]
  },
  {
   "cell_type": "code",
   "execution_count": 3,
   "id": "ddf49bd5",
   "metadata": {},
   "outputs": [],
   "source": [
    "word = Okt()"
   ]
  },
  {
   "cell_type": "code",
   "execution_count": 4,
   "id": "1f1a8f38",
   "metadata": {},
   "outputs": [
    {
     "data": {
      "text/plain": [
       "'한국어 분석을 시작 합니다.'"
      ]
     },
     "execution_count": 4,
     "metadata": {},
     "output_type": "execute_result"
    }
   ],
   "source": [
    "text = '한국어 분석을 시작 합니다.'\n",
    "text"
   ]
  },
  {
   "cell_type": "markdown",
   "id": "685090d3",
   "metadata": {},
   "source": [
    "### 1. 정규화"
   ]
  },
  {
   "cell_type": "code",
   "execution_count": 5,
   "id": "36444de7",
   "metadata": {},
   "outputs": [
    {
     "name": "stdout",
     "output_type": "stream",
     "text": [
      "한국어 분석을 시작 합니다.\n"
     ]
    }
   ],
   "source": [
    "print(word.normalize(text))"
   ]
  },
  {
   "cell_type": "markdown",
   "id": "cbe2a982",
   "metadata": {},
   "source": [
    "### 2. 어절 추출하기"
   ]
  },
  {
   "cell_type": "code",
   "execution_count": 6,
   "id": "c7bd413e",
   "metadata": {},
   "outputs": [
    {
     "name": "stdout",
     "output_type": "stream",
     "text": [
      "['한국어', '한국어 분석', '시작', '분석']\n"
     ]
    }
   ],
   "source": [
    "print(word.phrases(text))"
   ]
  },
  {
   "cell_type": "markdown",
   "id": "18e5f469",
   "metadata": {},
   "source": [
    "### 3. 형태소 분리하기: 가장 많이 사용"
   ]
  },
  {
   "cell_type": "code",
   "execution_count": 7,
   "id": "73757e5f",
   "metadata": {},
   "outputs": [
    {
     "name": "stdout",
     "output_type": "stream",
     "text": [
      "['한국어', '분석', '을', '시작', '합니다', '.']\n"
     ]
    }
   ],
   "source": [
    "print(word.morphs(text))"
   ]
  },
  {
   "cell_type": "markdown",
   "id": "d5e57979",
   "metadata": {},
   "source": [
    "### 4. 형태소 분리하기(형태소 마다 이름달기)"
   ]
  },
  {
   "cell_type": "code",
   "execution_count": 8,
   "id": "0ecd8e84",
   "metadata": {},
   "outputs": [
    {
     "name": "stdout",
     "output_type": "stream",
     "text": [
      "[('한국어', 'Noun'), ('분석', 'Noun'), ('을', 'Josa'), ('시작', 'Noun'), ('합니다', 'Verb'), ('.', 'Punctuation')]\n"
     ]
    }
   ],
   "source": [
    "print(word.pos(text))"
   ]
  },
  {
   "cell_type": "markdown",
   "id": "af3608be",
   "metadata": {},
   "source": [
    "### 5. 명사 추출하기"
   ]
  },
  {
   "cell_type": "code",
   "execution_count": 9,
   "id": "57f4a2b4",
   "metadata": {},
   "outputs": [
    {
     "name": "stdout",
     "output_type": "stream",
     "text": [
      "['한국어', '분석', '시작']\n"
     ]
    }
   ],
   "source": [
    "print(word.nouns(text))"
   ]
  },
  {
   "cell_type": "code",
   "execution_count": null,
   "id": "8d030ec5",
   "metadata": {},
   "outputs": [],
   "source": []
  }
 ],
 "metadata": {
  "kernelspec": {
   "display_name": "Python 3 (ipykernel)",
   "language": "python",
   "name": "python3"
  },
  "language_info": {
   "codemirror_mode": {
    "name": "ipython",
    "version": 3
   },
   "file_extension": ".py",
   "mimetype": "text/x-python",
   "name": "python",
   "nbconvert_exporter": "python",
   "pygments_lexer": "ipython3",
   "version": "3.9.7"
  }
 },
 "nbformat": 4,
 "nbformat_minor": 5
}
