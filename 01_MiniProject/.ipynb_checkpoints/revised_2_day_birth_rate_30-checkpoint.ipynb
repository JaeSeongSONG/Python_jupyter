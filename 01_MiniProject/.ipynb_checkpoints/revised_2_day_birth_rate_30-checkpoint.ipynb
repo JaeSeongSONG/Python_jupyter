{
 "cells": [
  {
   "cell_type": "code",
   "execution_count": 1,
   "id": "8c6fb2c5",
   "metadata": {},
   "outputs": [],
   "source": [
    "# pandas 라이브러리 호출\n",
    "\n",
    "import pandas as pd"
   ]
  },
  {
   "cell_type": "code",
   "execution_count": 7,
   "id": "b4d06698",
   "metadata": {},
   "outputs": [
    {
     "data": {
      "text/html": [
       "<div>\n",
       "<style scoped>\n",
       "    .dataframe tbody tr th:only-of-type {\n",
       "        vertical-align: middle;\n",
       "    }\n",
       "\n",
       "    .dataframe tbody tr th {\n",
       "        vertical-align: top;\n",
       "    }\n",
       "\n",
       "    .dataframe thead th {\n",
       "        text-align: right;\n",
       "    }\n",
       "</style>\n",
       "<table border=\"1\" class=\"dataframe\">\n",
       "  <thead>\n",
       "    <tr style=\"text-align: right;\">\n",
       "      <th></th>\n",
       "      <th>기본항목별</th>\n",
       "      <th>1990</th>\n",
       "      <th>1995</th>\n",
       "      <th>2000</th>\n",
       "      <th>2005</th>\n",
       "      <th>2010</th>\n",
       "      <th>2015</th>\n",
       "      <th>2020</th>\n",
       "    </tr>\n",
       "  </thead>\n",
       "  <tbody>\n",
       "    <tr>\n",
       "      <th>0</th>\n",
       "      <td>출생아수(명)</td>\n",
       "      <td>649738.00</td>\n",
       "      <td>715020.000</td>\n",
       "      <td>640089.00</td>\n",
       "      <td>438707.000</td>\n",
       "      <td>470171.000</td>\n",
       "      <td>438420.000</td>\n",
       "      <td>272337.000</td>\n",
       "    </tr>\n",
       "    <tr>\n",
       "      <th>1</th>\n",
       "      <td>자연증가건수(명)</td>\n",
       "      <td>408122.00</td>\n",
       "      <td>472182.000</td>\n",
       "      <td>391349.00</td>\n",
       "      <td>192833.000</td>\n",
       "      <td>214766.000</td>\n",
       "      <td>162525.000</td>\n",
       "      <td>-32611.000</td>\n",
       "    </tr>\n",
       "    <tr>\n",
       "      <th>2</th>\n",
       "      <td>조출생률(천명당)</td>\n",
       "      <td>15.20</td>\n",
       "      <td>15.700</td>\n",
       "      <td>13.50</td>\n",
       "      <td>9.000</td>\n",
       "      <td>9.400</td>\n",
       "      <td>8.600</td>\n",
       "      <td>5.300</td>\n",
       "    </tr>\n",
       "    <tr>\n",
       "      <th>3</th>\n",
       "      <td>자연증가율(천명당)</td>\n",
       "      <td>9.50</td>\n",
       "      <td>10.300</td>\n",
       "      <td>8.20</td>\n",
       "      <td>4.000</td>\n",
       "      <td>4.300</td>\n",
       "      <td>3.200</td>\n",
       "      <td>-0.600</td>\n",
       "    </tr>\n",
       "    <tr>\n",
       "      <th>4</th>\n",
       "      <td>합계출산율(명)</td>\n",
       "      <td>1.57</td>\n",
       "      <td>1.634</td>\n",
       "      <td>1.48</td>\n",
       "      <td>1.085</td>\n",
       "      <td>1.226</td>\n",
       "      <td>1.239</td>\n",
       "      <td>0.837</td>\n",
       "    </tr>\n",
       "    <tr>\n",
       "      <th>5</th>\n",
       "      <td>출생성비(명)</td>\n",
       "      <td>116.50</td>\n",
       "      <td>113.200</td>\n",
       "      <td>110.10</td>\n",
       "      <td>107.800</td>\n",
       "      <td>106.900</td>\n",
       "      <td>105.300</td>\n",
       "      <td>104.800</td>\n",
       "    </tr>\n",
       "  </tbody>\n",
       "</table>\n",
       "</div>"
      ],
      "text/plain": [
       "        기본항목별       1990        1995       2000        2005        2010  \\\n",
       "0     출생아수(명)  649738.00  715020.000  640089.00  438707.000  470171.000   \n",
       "1   자연증가건수(명)  408122.00  472182.000  391349.00  192833.000  214766.000   \n",
       "2   조출생률(천명당)      15.20      15.700      13.50       9.000       9.400   \n",
       "3  자연증가율(천명당)       9.50      10.300       8.20       4.000       4.300   \n",
       "4    합계출산율(명)       1.57       1.634       1.48       1.085       1.226   \n",
       "5     출생성비(명)     116.50     113.200     110.10     107.800     106.900   \n",
       "\n",
       "         2015        2020  \n",
       "0  438420.000  272337.000  \n",
       "1  162525.000  -32611.000  \n",
       "2       8.600       5.300  \n",
       "3       3.200      -0.600  \n",
       "4       1.239       0.837  \n",
       "5     105.300     104.800  "
      ]
     },
     "execution_count": 7,
     "metadata": {},
     "output_type": "execute_result"
    }
   ],
   "source": [
    "# '30년간_출생율변화.csv' 파일 불러오기\n",
    "# 필요없는 열인 'Unamed: 0' 삭제하기\n",
    "\n",
    "df = pd.read_csv('30년간_출생율변화.csv')\n",
    "df = df.drop('Unnamed: 0', axis = 1)\n",
    "df"
   ]
  },
  {
   "cell_type": "markdown",
   "id": "e84d5a8e",
   "metadata": {},
   "source": [
    "#### - 출생성비: 여아 100명당 남아 수를 의미\n",
    "#### - 자연증가율: 인구가 인구 1000명당 자연 증감한 인구 (출생률 - 사망률)\n",
    "#### - 합계출산율: 가임 여성(15~49세) 1명이 평생 동안 낳을 것으로 예상되는 평균 출생아 수를 나타낸 지표 (연령별 출산율(ASFR)의 총합)"
   ]
  },
  {
   "cell_type": "code",
   "execution_count": 8,
   "id": "45407bf2",
   "metadata": {},
   "outputs": [],
   "source": [
    "# 수정한 파일을 csv로 저장\n",
    "\n",
    "df.to_csv('30년간_출생율변화.csv')"
   ]
  }
 ],
 "metadata": {
  "kernelspec": {
   "display_name": "Python 3 (ipykernel)",
   "language": "python",
   "name": "python3"
  },
  "language_info": {
   "codemirror_mode": {
    "name": "ipython",
    "version": 3
   },
   "file_extension": ".py",
   "mimetype": "text/x-python",
   "name": "python",
   "nbconvert_exporter": "python",
   "pygments_lexer": "ipython3",
   "version": "3.9.7"
  }
 },
 "nbformat": 4,
 "nbformat_minor": 5
}
